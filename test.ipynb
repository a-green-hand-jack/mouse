{
 "cells": [
  {
   "cell_type": "code",
   "execution_count": 2,
   "metadata": {},
   "outputs": [],
   "source": [
    "from toolbox.mouse_In_excel import DataProcessor\n",
    "\n",
    "# 获取用户输入的 Excel 文件路径\n",
    "input_data = input(\"请输入 Excel 文件路径：\")\n",
    "\n",
    "# 获取用户输入的输出文件名\n",
    "output_file = input(\"请输入输出文件名：\")\n",
    "\n",
    "# 创建 DataProcessor 对象，并传入用户输入的值\n",
    "data_processor = DataProcessor(input_data+'.xlsx', output_file+'.xlsx')"
   ]
  }
 ],
 "metadata": {
  "kernelspec": {
   "display_name": "mouse",
   "language": "python",
   "name": "python3"
  },
  "language_info": {
   "codemirror_mode": {
    "name": "ipython",
    "version": 3
   },
   "file_extension": ".py",
   "mimetype": "text/x-python",
   "name": "python",
   "nbconvert_exporter": "python",
   "pygments_lexer": "ipython3",
   "version": "3.11.4"
  },
  "orig_nbformat": 4
 },
 "nbformat": 4,
 "nbformat_minor": 2
}
