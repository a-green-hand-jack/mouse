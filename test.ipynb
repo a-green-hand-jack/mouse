{
 "cells": [
  {
   "cell_type": "code",
   "execution_count": null,
   "metadata": {},
   "outputs": [],
   "source": [
    "%load_ext autoreload\n",
    "%autoreload 2\n",
    "import matplotlib as plt\n",
    "plt.rcParams['font.sans-serif'] = ['SimHei']\n",
    "\n",
    "from toolbox.Mouse import Mouse, make_mouse\n",
    "from toolbox.mouse_In_excel import DataProcessor\n",
    "from datetime import datetime\n",
    "import pandas as pd"
   ]
  },
  {
   "cell_type": "code",
   "execution_count": null,
   "metadata": {},
   "outputs": [],
   "source": [
    "test_mouse = make_mouse(mouse_number=\"mouse_109\", mouse_cage=\"cage_30\")"
   ]
  },
  {
   "cell_type": "code",
   "execution_count": null,
   "metadata": {},
   "outputs": [],
   "source": [
    "test_mouse.plot_weight()\n",
    "test_mouse.plot_delta_weight()\n",
    "test_mouse.plot_eat_food()\n",
    "# print(test_mouse.mouse_description)\n",
    "# print(test_mouse.kill)\n",
    "# print(test_mouse.weight_list)\n",
    "# print(test_mouse.date_list)"
   ]
  },
  {
   "cell_type": "code",
   "execution_count": null,
   "metadata": {},
   "outputs": [],
   "source": [
    "date_str = \"2023/11/11\"\n",
    "date_obj = datetime.strptime(date_str, \"%Y/%m/%d\").date()\n",
    "\n",
    "# test_mouse.add_mouse(chose=\"杀鼠表\",date=\"liver\", value=58)\n",
    "test_mouse.addge_mouse(chose=\"新增粮食\",date=date_obj, value=0)\n",
    "test_mouse.addge_mouse(chose=\"剩余粮食\",date=date_obj, value=508)\n",
    "test_mouse.addge_mouse(chose=\"体重记录\",date=date_obj, value=8)"
   ]
  },
  {
   "cell_type": "code",
   "execution_count": null,
   "metadata": {},
   "outputs": [],
   "source": [
    "test_mouse.remove_mouse(chose=\"体重记录\",date=date_obj)"
   ]
  },
  {
   "cell_type": "code",
   "execution_count": null,
   "metadata": {},
   "outputs": [],
   "source": [
    "import pickle\n",
    "\n",
    "# 假设您有一个名为test_mouse的类实例对象\n",
    "\n",
    "# 将对象保存到本地文件\n",
    "file_path = \"test_mouse.pkl\"\n",
    "\n",
    "with open(file_path, \"wb\") as file:\n",
    "    pickle.dump(test_mouse, file)\n",
    "\n",
    "test_mouse.save_mouse(file_path=\"t.pkl\")\n",
    "# 现在test_mouse对象已经保存到了本地文件file_path中\n",
    "\n",
    "# 要加载对象，您可以使用以下代码\n",
    "with open(\"t.pkl\", \"rb\") as file:\n",
    "    loaded_mouse2 = pickle.load(file)\n",
    "\n",
    "# 现在loaded_mouse包含了从文件中加载的对象\n",
    "print(loaded_mouse2.plot_eat_food())"
   ]
  },
  {
   "cell_type": "code",
   "execution_count": null,
   "metadata": {},
   "outputs": [],
   "source": [
    "print(test_mouse.location, test_mouse.name)"
   ]
  }
 ],
 "metadata": {
  "kernelspec": {
   "display_name": "mouse",
   "language": "python",
   "name": "python3"
  },
  "language_info": {
   "codemirror_mode": {
    "name": "ipython",
    "version": 3
   },
   "file_extension": ".py",
   "mimetype": "text/x-python",
   "name": "python",
   "nbconvert_exporter": "python",
   "pygments_lexer": "ipython3",
   "version": "3.11.4"
  },
  "orig_nbformat": 4
 },
 "nbformat": 4,
 "nbformat_minor": 2
}
